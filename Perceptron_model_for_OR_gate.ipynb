{
  "nbformat": 4,
  "nbformat_minor": 0,
  "metadata": {
    "colab": {
      "name": "Perceptron_model_for_OR_gate.ipynb",
      "provenance": [],
      "authorship_tag": "ABX9TyOX1s+dj6gzbCc7pbFic5uG",
      "include_colab_link": true
    },
    "kernelspec": {
      "name": "python3",
      "display_name": "Python 3"
    }
  },
  "cells": [
    {
      "cell_type": "markdown",
      "metadata": {
        "id": "view-in-github",
        "colab_type": "text"
      },
      "source": [
        "<a href=\"https://colab.research.google.com/github/rajat031/machinelearninglab-cs3-acro/blob/master/Perceptron_model_for_OR_gate.ipynb\" target=\"_parent\"><img src=\"https://colab.research.google.com/assets/colab-badge.svg\" alt=\"Open In Colab\"/></a>"
      ]
    },
    {
      "cell_type": "code",
      "metadata": {
        "id": "blzMCh13zlAi",
        "colab_type": "code",
        "colab": {}
      },
      "source": [
        "import numpy as np\n",
        "\n",
        "class Perceptron(object):\n",
        "    \"\"\"Implements a perceptron network\"\"\"\n",
        "    def __init__(self, input_size, lr, epochs):\n",
        "        self.W = np.zeros((input_size+1,1))\n",
        "        # add one for bias\n",
        "        self.epochs = epochs\n",
        "        self.lr = lr\n",
        "        self.loss_list=[]\n",
        "    \n",
        "    def activation_fn(self, z):\n",
        "        #return (x >= 0).astype(np.float32)\n",
        "        return 1 if z >= 0 else 0\n",
        " \n",
        "    def predict(self, x):\n",
        "        z = self.W.T.dot(x)\n",
        "        a = self.activation_fn(z)\n",
        "        return a\n",
        " \n",
        "    def fit(self, X, d):\n",
        "        for i in range(self.epochs):\n",
        "          l=0\n",
        "          for j in range(d.shape[0]):\n",
        "            x = np.insert(X[j], 0, 1)\n",
        "            x=x.reshape((3,1))\n",
        "            y = self.predict(x)\n",
        "            e = d[j] - y\n",
        "            l+=e**2\n",
        "            self.W = self.W + self.lr * e * x\n",
        "          l=l/4\n",
        "          self.loss_list.append(l)"
      ],
      "execution_count": 0,
      "outputs": []
    },
    {
      "cell_type": "code",
      "metadata": {
        "id": "cEXrsZIC1Lmr",
        "colab_type": "code",
        "outputId": "c1bd583c-7693-4df4-f60f-a8f44095a847",
        "colab": {
          "base_uri": "https://localhost:8080/",
          "height": 68
        }
      },
      "source": [
        "if __name__ == '__main__':\n",
        "    X = np.array([\n",
        "        [0, 0],\n",
        "        [0, 1],\n",
        "        [1, 0],\n",
        "        [1, 1]\n",
        "    ])\n",
        "    d = np.array([0, 1, 1, 1])\n",
        " \n",
        "    perceptron = Perceptron(input_size=2,lr=0.001,epochs=100)\n",
        "    perceptron.fit(X, d)\n",
        "    print(perceptron.W)"
      ],
      "execution_count": 15,
      "outputs": [
        {
          "output_type": "stream",
          "text": [
            "[[-0.001]\n",
            " [ 0.001]\n",
            " [ 0.001]]\n"
          ],
          "name": "stdout"
        }
      ]
    },
    {
      "cell_type": "code",
      "metadata": {
        "id": "O0MG6e9yAXGs",
        "colab_type": "code",
        "outputId": "65875a31-2905-49b2-d120-3cc938a3e368",
        "colab": {
          "base_uri": "https://localhost:8080/",
          "height": 279
        }
      },
      "source": [
        "import matplotlib.pyplot as plt\n",
        "x_axis=[int(x) for x in range(100)]\n",
        "y_axis=perceptron.loss_list\n",
        "\n",
        "plt.plot(x_axis,y_axis)\n",
        "plt.xlabel('iterations')\n",
        "plt.ylabel('loss')\n",
        "plt.show()"
      ],
      "execution_count": 16,
      "outputs": [
        {
          "output_type": "display_data",
          "data": {
            "image/png": "[encoded data removed]",
            "text/plain": [
              "<Figure size 432x288 with 1 Axes>"
            ]
          },
          "metadata": {
            "tags": []
          }
        }
      ]
    }
  ]
}